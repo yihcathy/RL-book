{
 "cells": [
  {
   "cell_type": "markdown",
   "metadata": {},
   "source": [
    "# Stanford CME 241 (Winter 2021) - Assignment 10"
   ]
  },
  {
   "cell_type": "markdown",
   "metadata": {},
   "source": [
    "### Market Making Model"
   ]
  },
  {
   "cell_type": "markdown",
   "metadata": {},
   "source": [
    "Maintain an online probabilistic estimate of the true value, which is a moving target.\n",
    "* Track the true value over time by maintaining a probability distribution over possible true values and updating the distribution when receiving signals from the market to buy or sell orders that the traders place.\n",
    "* The true value and the market-maker's prices together induce a probability distribution on the orders that arrive in the market.\n",
    "<br> To estimate the unerlying value of the estimate of the true value, we need to compute the conditional probability that $V=x$ given a received particular type of order. For instance, if it's market sell orders:\n",
    "$$ E[V|Sell] = \\int_0^\\infty x Pr(V=x|Sell)\\,\\mathrm{d}x $$\n",
    "Since we would like to approximate the values, we discretize the x-axis into intervals with each interval denoting one cent. Thus, we could get:\n",
    "$$ E[V|Sell] = \\displaystyle\\sum_{V_i = V_{min}}^{V_i = V_{max}} V_i Pr(V=x|Sell) $$\n",
    "Then we apply Bayes' rule:\n",
    "$$ E[V|Sell] = \\displaystyle\\sum_{V_i = V_{min}}^{V_i = V_{max}} \\frac{V_i Pr(Sell|V=V_i) Pr(V=V_i)}{Pr(Sell)}  $$\n",
    "Since $P_b$ is set by the market maker to $E[V|Sell]$ and the prior probabilities for both a buy and a sell order are $\\frac{1}{2}$:\n",
    "$$ P_b = 2 \\displaystyle\\sum_{V_i = V_{min}}^{V_i = V_{max}} V_i Pr(Sell|V=V_i) Pr(V=V_i) $$\n",
    "Since $V_{min} < P_b < V_{max}$,\n",
    "$$ P_b = 2 \\displaystyle\\sum_{V_i = V_{min}}^{V_i = P_b} V_i Pr(Sell|V=V_i) Pr(V=V_i) + \\displaystyle\\sum_{V_i = P_b + 1}^{V_i = V_{max}} V_i Pr(Sell|V=V_i) Pr(V=V_i) $$\n",
    "Assuming an uninformed trader is equally likely to sell whatever the market maker's bid price and the percentage of informed traders is $\\alpha$, then $Pr(Sell|V \\leq P_b) = \\frac{1}{2} + \\frac{1}{2} \\alpha $ and $Pr(Sell|V > P_b) = \\frac{1}{2} - \\frac{1}{2} \\alpha$. The above equation can be reduced to:\n",
    "$$ P_b = 2(\\displaystyle\\sum_{V_i = V_{min}}^{V_i = P_b} (\\frac{1}{2} + \\frac{1}{2} \\alpha) V_i Pr(V=V_i) + \\displaystyle\\sum_{V_i = P_b + 1}^{V_i = V_{max}} (\\frac{1}{2} - \\frac{1}{2} \\alpha) V_i Pr(V=V_i)) $$\n",
    "Then the market-maker's ask price should be derived as follows:\n",
    "$$ P_a = 2(\\displaystyle\\sum_{V_i = V_{min}}^{V_i = P_a} (\\frac{1}{2} - \\frac{1}{2} \\alpha) V_i Pr(V=V_i) + \\displaystyle\\sum_{V_i = P_a + 1}^{V_i = V_{max}} (\\frac{1}{2} + \\frac{1}{2} \\alpha) V_i Pr(V=V_i)) $$"
   ]
  },
  {
   "cell_type": "markdown",
   "metadata": {},
   "source": [
    "A Naïve Market-Maker \n",
    "* Surrounds the last transaction price $P_h$ with its bid and ask quote around that price $[P_h - \\frac{\\delta}{2}, P_h + \\frac{\\delta}{2}]$\n",
    "* Maintains a fixed spread $\\delta$ at each time "
   ]
  }
 ],
 "metadata": {
  "kernelspec": {
   "display_name": "Python 3",
   "language": "python",
   "name": "python3"
  },
  "language_info": {
   "codemirror_mode": {
    "name": "ipython",
    "version": 3
   },
   "file_extension": ".py",
   "mimetype": "text/x-python",
   "name": "python",
   "nbconvert_exporter": "python",
   "pygments_lexer": "ipython3",
   "version": "3.7.9"
  }
 },
 "nbformat": 4,
 "nbformat_minor": 4
}
