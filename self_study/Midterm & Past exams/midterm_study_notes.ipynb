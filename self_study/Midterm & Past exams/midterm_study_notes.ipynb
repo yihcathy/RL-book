{
 "cells": [
  {
   "cell_type": "markdown",
   "metadata": {},
   "source": [
    "# Stanford CME 241 (Winter 2021) - Midterm Exam"
   ]
  },
  {
   "cell_type": "code",
   "execution_count": 1,
   "metadata": {},
   "outputs": [],
   "source": [
    "import numpy as np\n",
    "from scipy.stats import poisson\n",
    "from pprint import pprint\n",
    "from dataclasses import dataclass\n",
    "from typing import Tuple, Mapping, Dict, Sequence, Iterable, Set, List\n",
    "from rl.distribution import Categorical, Constant\n",
    "import matplotlib.pyplot as plt\n",
    "\n",
    "from rl.markov_decision_process import FiniteMarkovDecisionProcess\n",
    "from rl.dynamic_programming import value_iteration_result"
   ]
  },
  {
   "cell_type": "markdown",
   "metadata": {},
   "source": [
    "### Q1 Value Iteration Optimization."
   ]
  },
  {
   "cell_type": "code",
   "execution_count": 15,
   "metadata": {},
   "outputs": [],
   "source": [
    "SPACE = 'SPACE'\n",
    "BLOCK = 'BLOCK'\n",
    "GOAL = 'GOAL'\n",
    "\n",
    "maze_grid: Mapping[Tuple[int, int], str] = {(0, 0): SPACE, (0, 1): BLOCK, (0, 2): SPACE, (0, 3): SPACE, (0, 4): SPACE, \n",
    "                         (0, 5): SPACE, (0, 6): SPACE, (0, 7): SPACE, (1, 0): SPACE, (1, 1): BLOCK,\n",
    "                         (1, 2): BLOCK, (1, 3): SPACE, (1, 4): BLOCK, (1, 5): BLOCK, (1, 6): BLOCK, \n",
    "                         (1, 7): BLOCK, (2, 0): SPACE, (2, 1): BLOCK, (2, 2): SPACE, (2, 3): SPACE, \n",
    "                         (2, 4): SPACE, (2, 5): SPACE, (2, 6): BLOCK, (2, 7): SPACE, (3, 0): SPACE, \n",
    "                         (3, 1): SPACE, (3, 2): SPACE, (3, 3): BLOCK, (3, 4): BLOCK, (3, 5): SPACE, \n",
    "                         (3, 6): BLOCK, (3, 7): SPACE, (4, 0): SPACE, (4, 1): BLOCK, (4, 2): SPACE, \n",
    "                         (4, 3): BLOCK, (4, 4): SPACE, (4, 5): SPACE, (4, 6): SPACE, (4, 7): SPACE, \n",
    "                         (5, 0): BLOCK, (5, 1): BLOCK, (5, 2): SPACE, (5, 3): BLOCK, (5, 4): SPACE, \n",
    "                         (5, 5): BLOCK, (5, 6): SPACE, (5, 7): BLOCK, (6, 0): SPACE, (6, 1): BLOCK, \n",
    "                         (6, 2): BLOCK, (6, 3): BLOCK, (6, 4): SPACE, (6, 5): BLOCK, (6, 6): SPACE, \n",
    "                         (6, 7): SPACE, (7, 0): SPACE, (7, 1): SPACE, (7, 2): SPACE, (7, 3): SPACE, \n",
    "                         (7, 4): SPACE, (7, 5): BLOCK, (7, 6): BLOCK, (7, 7): GOAL}"
   ]
  },
  {
   "cell_type": "code",
   "execution_count": 16,
   "metadata": {},
   "outputs": [],
   "source": [
    "def track(f):\n",
    "    def wrapped(mdp, vf, s):\n",
    "        res = f(mdp, vf, s)\n",
    "        updated = vf.copy()\n",
    "        mdp.iterates.append(updated)\n",
    "    return wrapped\n",
    "\n",
    "\n",
    "@dataclass(frozen=True)\n",
    "class GridState:\n",
    "    x: int\n",
    "    y: int\n",
    "    \n",
    "    def neighbors(self) -> Iterable[GridState]:\n",
    "        return [GridState(self.x-1, self.y), GridState(self.x+1, self.y),\n",
    "                GridState(self.x, self.y-1), GridState(self.x, self.y+1)]\n",
    "\n",
    "    def __lt__(self, other: GridState):\n",
    "        return (self.x, self.y) < (other.x, other.y) # use to compare"
   ]
  },
  {
   "cell_type": "code",
   "execution_count": 17,
   "metadata": {},
   "outputs": [],
   "source": [
    "class GridMazeMDP:\n",
    "    def __init__(self, maze_dict):\n",
    "        self.iterates = [] # dont need to change\n",
    "        self.tolerance = 1e-8\n",
    "    \n",
    "        self.states: Set[GridState] = set([GridState(x[0], x[1]) for x, y in maze_dict.items()\n",
    "                                           if y == 'SPACE' or y == 'GOAL'])\n",
    "        # return the x-coordinate of the terminal state\n",
    "        self.goal: GridState = [GridState(x[0], x[1]) for x,y in maze_dict.items() if y == 'GOAL'][0]\n",
    "        # discount factor - to be changed\n",
    "        self.gamma: float = 1\n",
    "    \n",
    "    def reward_func(self, next_state) -> float:\n",
    "        return -1\n",
    "    \n",
    "    def plot_convergence(self, label):\n",
    "        sorted_vfs = np.array([[y[1] for y in sorted(x.items())] for x in self.iterates])\n",
    "        true_vf = sorted_vfs[-1, :]\n",
    "        convergences = np.linalg.norm(sorted_vfs - true_vf, axis=1)\n",
    "        plt.plot(convergences, label=label)\n",
    "    \n",
    "    def get_vd(self):\n",
    "        return self.iterates[-1]\n",
    "    \n",
    "    @track\n",
    "    def update_value_function_for_state(self, value_function: Mapping[GridState, float], s: GridState) -> None:\n",
    "        if s != self.goal:\n",
    "            neighbor_value_functions = []\n",
    "            for neighbor in s.neighbors():\n",
    "                # not a block\n",
    "                if neighbor in self.states:\n",
    "                    # neighbor: vf = -1(immediate reward) + gamma * vf'\n",
    "                    neighbor_value_functions.append(self.reward_func(neighbor) + self.gamma * value_function[neighbor])\n",
    "            value_function[s] = max(neighbor_value_functions)\n",
    "        else:\n",
    "            value_function[s] = 0 #vf for the goal state\n",
    "        \n",
    "    def in_place_value_iteration(self) -> Mapping[GridState, float]:\n",
    "        value_function = {s: 0 for s in self.states}\n",
    "        # initialize with 1 to make sure we enter the loop; then use it as a variable to compare with tolerance\n",
    "        max_change = 1\n",
    "        # while not converge\n",
    "        while max_change > self.tolerance:\n",
    "            max_change = 0\n",
    "            for state in self.states:\n",
    "                old_val = value_function[state]\n",
    "                self.update_value_function_for_state(value_function, state)\n",
    "                # abs(old_vf - update_vf) > tolerance (not converge); continue the while loop\n",
    "                max_change = max(max_change, abs(old_val-value_function[state]) > self.tolerance)\n",
    "        return value_function\n",
    "\n",
    "##################################### this is a influence tree value iteration method\n",
    "\n",
    "    def influence_tree_VI(self) -> Mapping[GridState, float]: \n",
    "        value_function = {s: 0 for s in self.states}\n",
    "        influence_tree = self.get_influence_tree() #return a dictionary {state: [neighbor_state1, neighbor_state_2 ...]}\n",
    "        to_update = [s for s in self.states]\n",
    "        in_list = {s: True for s in self.states}\n",
    "        while len(to_update) > 0:\n",
    "            # we pop states orderly\n",
    "            next_state = to_update.pop(0)\n",
    "            in_list[next_state] = False\n",
    "            old_val = value_function[next_state]\n",
    "            self.update_value_function_for_state(value_function, next_state)\n",
    "            if abs(old_val - value_function[next_state]) > self.tolerance:\n",
    "                for s in influence_tree[next_state]:\n",
    "                    # if we have met the neighbor state before, we append it to to_update again (Question)\n",
    "                    if not in_list[s]:\n",
    "                        to_update.append(s)\n",
    "        return value_function\n",
    "                          \n",
    "    def get_influence_tree(self) -> Mapping[GridState, Iterable[GridState]]:\n",
    "        influence_tree = {}\n",
    "        count = 0\n",
    "        for state in self.states:\n",
    "            # for each 'space' state, we get a list of its neighbor states\n",
    "            influence_tree[state] = []\n",
    "            for neighbor in state.neighbors():\n",
    "                if neighbor != self.goal and neighbor in self.states:\n",
    "                    influence_tree[state].append(neighbor)\n",
    "        return influence_tree\n",
    "\n",
    "####################################\n",
    "\n",
    "class SparseGridMazeMDP(GridMazeMDP):\n",
    "    \n",
    "    def __init__(self, maze_dict):\n",
    "        super().__init__(maze_dict)\n",
    "        self.gamma: float = 0.9\n",
    "    \n",
    "    def reward_func(self, next_state) -> float:\n",
    "        if next_state == self.goal:\n",
    "            return 1\n",
    "        return 0\n",
    "            \n",
    "\n",
    "class SparseGridMazeMDP(GridMazeMDP):\n",
    "    \"\"\"In this case, only the goal state has reward 1, while other space states reward 0\"\"\"\n",
    "    def __init__(self, maze_dict):\n",
    "        super().__init__(maze_dict)\n",
    "        self.gamma: float = 0.9\n",
    "    \n",
    "    def reward_func(self, next_state) -> float:\n",
    "        if next_state == self.goal:\n",
    "            return 1\n",
    "        return 0"
   ]
  },
  {
   "cell_type": "code",
   "execution_count": 19,
   "metadata": {},
   "outputs": [
    {
     "name": "stdout",
     "output_type": "stream",
     "text": [
      "in place value iteration with dense rewards took 429 steps to converge\n",
      "influence tree value iteration took 427 steps to converge\n"
     ]
    },
    {
     "data": {
      "text/plain": [
       "Text(0.5, 1.0, 'dense rewards')"
      ]
     },
     "execution_count": 19,
     "metadata": {},
     "output_type": "execute_result"
    },
    {
     "data": {
      "image/png": "[encoded data removed]",
      "text/plain": [
       "<Figure size 432x288 with 1 Axes>"
      ]
     },
     "metadata": {
      "needs_background": "light"
     },
     "output_type": "display_data"
    }
   ],
   "source": [
    "gm1 = GridMazeMDP(maze_grid)\n",
    "gm2 = GridMazeMDP(maze_grid)\n",
    "vf1 = gm1.in_place_value_iteration()\n",
    "print(f\"in place value iteration with dense rewards took {len(gm1.iterates)} steps to converge\")\n",
    "gm1.plot_convergence(\"value iteration\")\n",
    "vf2 = gm2.influence_tree_VI()\n",
    "print(f\"influence tree value iteration took {len(gm2.iterates)} steps to converge\")\n",
    "gm2.plot_convergence(\"influence tree value iteration\")\n",
    "plt.legend()\n",
    "plt.title(\"dense rewards\")"
   ]
  },
  {
   "cell_type": "code",
   "execution_count": 20,
   "metadata": {},
   "outputs": [
    {
     "name": "stdout",
     "output_type": "stream",
     "text": [
      "in place value iteration with sparse rewards took 390 steps to converge\n",
      "influence tree value iteration took 113 steps to converge\n"
     ]
    },
    {
     "data": {
      "text/plain": [
       "Text(0.5, 1.0, 'sparse rewards')"
      ]
     },
     "execution_count": 20,
     "metadata": {},
     "output_type": "execute_result"
    },
    {
     "data": {
      "image/png": "[encoded data removed]",
      "text/plain": [
       "<Figure size 432x288 with 1 Axes>"
      ]
     },
     "metadata": {
      "needs_background": "light"
     },
     "output_type": "display_data"
    }
   ],
   "source": [
    "gm1 = SparseGridMazeMDP(maze_grid)\n",
    "gm2 = SparseGridMazeMDP(maze_grid)\n",
    "vf1 = gm1.in_place_value_iteration()\n",
    "print(f\"in place value iteration with sparse rewards took {len(gm1.iterates)} steps to converge\")\n",
    "gm1.plot_convergence(\"value iteration\")\n",
    "vf2 = gm2.influence_tree_VI()\n",
    "print(f\"influence tree value iteration took {len(gm2.iterates)} steps to converge\")\n",
    "gm2.plot_convergence(\"influence tree value iteration\")\n",
    "plt.legend()\n",
    "plt.title(\"sparse rewards\")"
   ]
  },
  {
   "cell_type": "markdown",
   "metadata": {},
   "source": [
    "### Q2 MRP Value Function Approximation."
   ]
  },
  {
   "cell_type": "markdown",
   "metadata": {},
   "source": [
    " We start with the matrix bellman equations\n",
    " $$ V=R+\\gamma PV $$\n",
    " Using linear function approximation, we get\n",
    " $$ \\tilde{V} = \\Phi \\cdot w $$\n",
    " where $ \\Phi$ is a $ n \\times m $ matrix of features for all states. If we need $\\tilde{V} = V$:\n",
    " $$ \\Phi \\cdot w = R + \\gamma P \\cdot \\Phi \\cdot w $$ \n",
    " $$ (I - \\gamma P) \\cdot \\Phi \\cdot w = R   $$\n",
    " $$ \\Phi \\cdot w = (I - \\gamma P)^{-1} \\cdot R $$\n",
    "Thus, a minimally sufficient condition is hold is that the vector $ (I - \\gamma P)^{-1} \\cdot R $ must lie in the span of m vectors comprising the columns of the matrix $\\Phi$"
   ]
  },
  {
   "cell_type": "markdown",
   "metadata": {},
   "source": [
    "### Q3 Career Optimization."
   ]
  },
  {
   "cell_type": "code",
   "execution_count": 6,
   "metadata": {},
   "outputs": [],
   "source": [
    "IntPair = Tuple[int, int]\n",
    "CareerDecisionsMap = Mapping[int, Mapping[\n",
    "    IntPair,\n",
    "    Categorical[Tuple[int, float]]\n",
    "]]"
   ]
  },
  {
   "cell_type": "code",
   "execution_count": 7,
   "metadata": {},
   "outputs": [],
   "source": [
    "class CareerOptimization(FiniteMarkovDecisionProcess[int, IntPair]):\n",
    "    \n",
    "    def __init__(\n",
    "        self,\n",
    "        hours: int,\n",
    "        wage_cap: int,\n",
    "        alpha: float,\n",
    "        beta: float\n",
    "    ):\n",
    "        self.hours = hours\n",
    "        self.wage_cap = wage_cap\n",
    "        self.alpha = alpha\n",
    "        self.beta = beta\n",
    "        super().__init__(self.get_transitions())\n",
    "    \n",
    "    def get_transitions(self) -> CareerDecisionsMap:\n",
    "        d: Dict[int, Mapping[IntPair, Categorical[Tuple[int, float]]]] = {}\n",
    "        for w in range(1, self.wage_cap+1):\n",
    "            d1: Dict[IntPair, Categorical[Tuple[int, float]]] = {}\n",
    "            for s in range(self.hours+1):\n",
    "                for t in range(self.hours+1-s):\n",
    "                    pd = poisson(self.alpha*t)\n",
    "                    prob: float = self.beta*s/self.hours\n",
    "                    r: float = w*(self.hours-s-t)\n",
    "                    same_prob: float = (1-prob) * pd.pmf(0)\n",
    "                    sr_probs: Dict[Tuple[int, float], float] = {}\n",
    "                    # special case1\n",
    "                    if w == self.wage_cap:\n",
    "                        sr_probs[(w,r)] = 1.\n",
    "                    # special case2\n",
    "                    elif w == self.wage_cap-1:\n",
    "                        sr_probs[(w,r)] = same_prob\n",
    "                        sr_probs[(w+1,r)] = 1-same_prob\n",
    "                    # cases (a bit confused about this part)\n",
    "                    else:\n",
    "                        sr_probs[(w,r)] = same_prob\n",
    "                        sr_probs[(w+1,r)] = prob*pd.pmf(0)+pd.pmf(1) \n",
    "                        for w1 in range(w+2, self.wage_cap):\n",
    "                            sr_probs[(w1, r)] = pd.pmf(w1-w)\n",
    "                        sr_probs[(self.wage_cap,r)] = 1 - pd.cdf(self.wage_cap-w-1)\n",
    "                    d1[(s,t)] = Categorical(sr_probs)\n",
    "            d[w] = d1\n",
    "        return d   "
   ]
  },
  {
   "cell_type": "code",
   "execution_count": 17,
   "metadata": {},
   "outputs": [
    {
     "name": "stdout",
     "output_type": "stream",
     "text": [
      "{1: (0, 10),\n",
      " 2: (0, 10),\n",
      " 3: (0, 10),\n",
      " 4: (0, 10),\n",
      " 5: (0, 10),\n",
      " 6: (0, 10),\n",
      " 7: (0, 10),\n",
      " 8: (0, 10),\n",
      " 9: (0, 10),\n",
      " 10: (0, 10),\n",
      " 11: (0, 10),\n",
      " 12: (0, 10),\n",
      " 13: (0, 10),\n",
      " 14: (10, 0),\n",
      " 15: (10, 0),\n",
      " 16: (0, 0),\n",
      " 17: (0, 0),\n",
      " 18: (0, 0),\n",
      " 19: (0, 0),\n",
      " 20: (0, 0),\n",
      " 21: (0, 0),\n",
      " 22: (0, 0),\n",
      " 23: (0, 0),\n",
      " 24: (0, 0),\n",
      " 25: (0, 0),\n",
      " 26: (0, 0),\n",
      " 27: (0, 0),\n",
      " 28: (0, 0),\n",
      " 29: (0, 0),\n",
      " 30: (0, 0)}\n"
     ]
    },
    {
     "data": {
      "image/png": "[encoded data removed]",
      "text/plain": [
       "<Figure size 432x288 with 1 Axes>"
      ]
     },
     "metadata": {
      "needs_background": "light"
     },
     "output_type": "display_data"
    }
   ],
   "source": [
    "hours: int = 10\n",
    "# hours: int = 13\n",
    "wage_cap: int = 30\n",
    "alpha: float = 0.08\n",
    "# alpha: float = 0.10\n",
    "beta: float = 0.82\n",
    "# beta: float = 0.9\n",
    "gamma: float = 0.95\n",
    "\n",
    "co: CareerOptimization = CareerOptimization(\n",
    "    hours=hours,\n",
    "    wage_cap=wage_cap,\n",
    "    alpha=alpha,\n",
    "    beta=beta\n",
    ")\n",
    "        \n",
    "_, opt_policy = value_iteration_result(co, gamma=gamma) #this is from rl.dynamic_programming\n",
    "wages: Iterable[int] = range(1, co.wage_cap + 1)\n",
    "opt_actions: Mapping[int, Tuple[int, int]] =\\\n",
    "    {w: opt_policy.act(w).value for w in wages} #{wage1: (s1, l1), wage2: (s2, l2), ...}\n",
    "searching: Sequence[int] = [s for _, (s, _) in opt_actions.items()]\n",
    "learning: Sequence[int] = [l for _, (_, l) in opt_actions.items()]\n",
    "working: Sequence[int] = [co.hours - s - l for _, (s, l) in\n",
    "                          opt_actions.items()]\n",
    "pprint(opt_actions)\n",
    "plt.xticks(wages)\n",
    "p1 = plt.bar(wages, searching, color='red')\n",
    "p2 = plt.bar(wages, learning, color='blue')\n",
    "p3 = plt.bar(wages, working, color='green')\n",
    "plt.legend((p1[0], p2[0], p3[0]), ('Job-Searching', 'Learning', 'Working'))\n",
    "plt.grid(axis='y')\n",
    "plt.xlabel(\"Hourly Wage Level\")\n",
    "plt.ylabel(\"Hours Spent\")\n",
    "plt.title(\"Career Optimization\")\n",
    "plt.show()"
   ]
  },
  {
   "cell_type": "markdown",
   "metadata": {},
   "source": [
    "Action on any given day $ (l,s) $; Action space $ \\{(l,s) | 0 \\leq l+s \\leq H\\} $; Reward on any given day $R(w, (l,s)) = w \\cdot (H-l-s) $\n",
    "<br> $$P [w'|(w, (s,l))] = \\begin{gather*}\n",
    "\\begin{cases}\n",
    "  0  & w'<w \\\\    \n",
    "  (1-p(s))\\cdot f_{\\alpha l} (0)  & w=w'<W\\\\  \n",
    "  p(s)\\cdot f_{\\alpha l} (0) + f_{\\alpha l} (1)  & w+1=w'<W\\\\\n",
    "  f_{\\alpha l} (w'-w) & w+1<w'<W\\\\\n",
    "  1  & w=w'=W\\\\\n",
    "  1-(1-p(s))\\cdot f_{\\alpha l} (0)  & w+1=w'=W\\\\\n",
    "  1-F_{\\alpha l} (w'-w-1)  & w+1<w'=W\n",
    "\\end{cases}\n",
    "\\end{gather*}$$\n",
    "where $f_{\\lambda}$ is the Poisson PMF, while $F_{\\lambda}$ is the Poisson CDF."
   ]
  }
 ],
 "metadata": {
  "kernelspec": {
   "display_name": "Python 3",
   "language": "python",
   "name": "python3"
  },
  "language_info": {
   "codemirror_mode": {
    "name": "ipython",
    "version": 3
   },
   "file_extension": ".py",
   "mimetype": "text/x-python",
   "name": "python",
   "nbconvert_exporter": "python",
   "pygments_lexer": "ipython3",
   "version": "3.7.9"
  }
 },
 "nbformat": 4,
 "nbformat_minor": 4
}
