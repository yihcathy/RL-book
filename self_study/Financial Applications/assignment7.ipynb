{
 "cells": [
  {
   "cell_type": "markdown",
   "metadata": {},
   "source": [
    "# Stanford CME 241 (Winter 2021) - Assignment 7"
   ]
  },
  {
   "cell_type": "markdown",
   "metadata": {},
   "source": [
    "### Merton’s Portfolio problem"
   ]
  },
  {
   "cell_type": "markdown",
   "metadata": {},
   "source": [
    "In the case of $log(⋅)$ Utility function for Merton's Portfolio problem:\n",
    "The goal is to maximize the objective function:\n",
    "$$ J(x,r,u,c) = E_{x,r} \\int_0^\\infty e^{-\\beta t} log(c_t x_t)dt  $$\n",
    "The value functin is:\n",
    "$$ V(x,r) = max_{u,c} E_{x,r} \\int_0^\\infty e^{-\\beta t} log(c_t x_t)dt  $$\n",
    "Verification:\n",
    "$$ \\tilde{V} (x,r) = \\frac{1}{\\beta} logx + \\tilde{W} (r)  $$\n",
    "By Ito's rule,\n",
    "$$ d [e^{-\\beta t} \\tilde{V} (x_t,r_t)] = e^{-\\beta t} d\\tilde{V} (x_t,r_t) - \\beta e^{-\\beta t} \\tilde{V} (x_t,r_t) dt $$\n",
    "For control policy,\n",
    "$$ u^* (x_t, r_t) = \\frac{b - r_t^*}{\\sigma_1^2}, c^* (x_t, r_t) = \\beta $$\n",
    "$$ u^* \\in argmax_u [(b-r)ux \\tilde{V}_x + \\frac{1}{2} \\sigma_1^2 u^2 x^2 \\tilde{V}_{xx} + \\rho \\sigma_1 \\sigma_2 u \\tilde{V}_{xr}] $$\n",
    "$$ c^* \\in argmax_{c \\geq 0} [-cx\\tilde{V}_x + log(cs)] $$\n",
    "$$ \\tilde{V} (x,r) = E \\int_0^T e^{-\\beta t} log(c_t^* x_t^*)dt + Ee^{-\\beta T} \\tilde{V} (x_T^*, r_T^*)  $$\n",
    "Therefore,\n",
    "$$ \\tilde{V} (x,r) =  E_{x,r} \\int_0^\\infty e^{-\\beta t} log(c_t^* x_t^*)dt $$"
   ]
  },
  {
   "cell_type": "markdown",
   "metadata": {},
   "source": [
    "### MDP Design Sketch"
   ]
  },
  {
   "cell_type": "markdown",
   "metadata": {},
   "source": [
    "* State space:\n",
    "$S = (i, s)$ where $1 \\leq i \\leq n$, $s \\in \\{s_1, s_2\\}$, and $s_1$ indicates the worker being employed while $s_2$ unemployed.\n",
    "* Action space: \n",
    "$A (i,s) = \\begin{gather*}\n",
    "\\begin{cases}\n",
    "  None  & 1 \\leq i \\leq n, s = s_1\\\\    \n",
    "  \\{a_1,a_2\\}  & 1 \\leq i \\leq n, s = s_2\n",
    "\\end{cases}\n",
    "\\end{gather*}$ where $a_1$ indicates accepting an offered job while $a_2$ not accepting a job offer or not being offered an offer.\n",
    "* Transition function:\n",
    "$Pr[(i',s')|(i,s),a_1] = \\begin{gather*}\n",
    "\\begin{cases}\n",
    "  p*h(s)  & 1 \\leq i' \\leq n, s = s_2, s' =s_1\\\\   \n",
    "  0   & otherwise\n",
    "\\end{cases}\n",
    "\\end{gather*}$\n",
    "$Pr[(i',s')|(i,s),a_2] = \\begin{gather*}\n",
    "\\begin{cases}\n",
    "  p*(1-h(s))  & 1 \\leq i' \\leq n, s = s_2, s' =s_2\\\\   \n",
    "  0   & otherwise\n",
    "\\end{cases}\n",
    "\\end{gather*}$\n",
    "* Reward function:   \n",
    "    - $R((i,s), a_1) = U(\\lambda^i f(s))$, $1 \\leq i \\leq n$, $s \\in \\{ s_1, s_2\\}$\n",
    "    - $R((i,s), a_2) = U(w_0)$, $1 \\leq i \\leq n$\n",
    "* Bellman optimality equation (we start from a given day t)\n",
    "    - Optimal Value function($0 \\leq iu \\leq n$, $u \\geq t$): \n",
    "        - $V_{it} = \\displaystyle\\sum_{iu=it}^{n} p_{iu} max(log(w_{it}) + \\gamma V_{it}, V_{iu}) $\n",
    "        - $V_{iu} = log(w_{iu}) + \\gamma (\\alpha V_{it} + (1-\\alpha) V_{iu})$\n",
    "    - Optimal policy($0 \\leq iu \\leq n$, $u \\geq t$):\n",
    "        - The worker should accpet the offered job if and only if $V_{iu} > log(w_{it}) + \\gamma V_{it}$ to maximize the total expected lifetime utility of earnings."
   ]
  }
 ],
 "metadata": {
  "kernelspec": {
   "display_name": "Python 3",
   "language": "python",
   "name": "python3"
  },
  "language_info": {
   "codemirror_mode": {
    "name": "ipython",
    "version": 3
   },
   "file_extension": ".py",
   "mimetype": "text/x-python",
   "name": "python",
   "nbconvert_exporter": "python",
   "pygments_lexer": "ipython3",
   "version": "3.7.9"
  }
 },
 "nbformat": 4,
 "nbformat_minor": 4
}
