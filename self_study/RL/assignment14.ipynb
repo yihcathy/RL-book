{
 "cells": [
  {
   "cell_type": "markdown",
   "metadata": {},
   "source": [
    "# Stanford CME 241 (Winter 2021) - Assignment 14"
   ]
  },
  {
   "cell_type": "markdown",
   "metadata": {},
   "source": [
    "### LSTD Algorithm"
   ]
  },
  {
   "cell_type": "code",
   "execution_count": 8,
   "metadata": {},
   "outputs": [],
   "source": [
    "import numpy as np \n",
    "\n",
    "class LSTD:\n",
    "    \n",
    "    def __init__(self, n, epsilon=0):        \n",
    "        self.n = n # the number of features\n",
    "        self.reset(epsilon)\n",
    "    \n",
    "    def reset(self, epsilon=0):\n",
    "        self.z = np.zeros(self.n) # the eligibility trace vector\n",
    "        self.A = np.eye(self.n) * epsilon # a matrix with shape (n,n)\n",
    "        self.b = np.zeros(self.n) # a vector of length n\n",
    "    \n",
    "    def theta(self):\n",
    "        thet = np.dot(np.linalg.pinv(self.A), self.b)\n",
    "        return thet\n",
    "\n",
    "    def update(self, x, reward, xp, gm, gm_p, lm):\n",
    "        # x: current timestep observation\n",
    "        # r: reward from the transition\n",
    "        # xp: next timestep observation\n",
    "        # gm: discount factor for the current state\n",
    "        # gm_p: discount factor for the next state\n",
    "        # lm: bootstrapping parameter\n",
    "        self.z = (gm * lm * self.z + x) # lambda\n",
    "        self.A += np.outer(self.z, (x - gm_p*xp))\n",
    "        self.b += self.z * reward "
   ]
  },
  {
   "cell_type": "markdown",
   "metadata": {},
   "source": [
    "### LSPI Algorithm"
   ]
  },
  {
   "cell_type": "code",
   "execution_count": 14,
   "metadata": {},
   "outputs": [],
   "source": [
    "import numpy as np\n",
    "\n",
    "class LSPI:\n",
    "    \n",
    "    def __init__(self, basis_functions, gamma, epsilon, w, env, n_trial_samples, n_timestep_samples):        \n",
    "        self.basis_functions = basis_functions\n",
    "        self.gamma = gamma\n",
    "        self.epsilon = epsilon\n",
    "        self.w = w\n",
    "        self.env = env\n",
    "        self.n_trial_samples: int = n_trial_samples\n",
    "        self.n_timestep_samples: int = n_timestep_samples\n",
    "    \n",
    "    def LSPI_func(self, basis_functions, gamma, epsilon, w, env, n_trial_samples=1000, n_timestep_samples=20):\n",
    "        w0 = []    \n",
    "        samples = self.generate_samples(self.env, self.n_trial_samples, self.n_timestep_samples)\n",
    "        while True:\n",
    "            w_prev = self.w\n",
    "            w = self.LSTDQ(samples, self.basis_functions, self.gamma, self.w, self.env)\n",
    "            if self.converged(w, w_prev, self.epsilon):\n",
    "                break \n",
    "            else:\n",
    "                w_prev = w\n",
    "            w0.append(w[0])\n",
    "            print (w[0])\n",
    "        return w, w0\n",
    "\n",
    "    def converged(self, w, w_prev, epsilon):\n",
    "        return np.linalg.norm(w - w_prev) < epsilon\n",
    "\n",
    "    def LSTDQ(self, samples, basis_functions, gamma, w, env):\n",
    "        k = len(basis_functions)\n",
    "        A = np.identity(k) * 0.01\n",
    "        b = np.zeros(k)\n",
    "        for s, a, r, sp in samples:\n",
    "            phi = np.array([basis(s, a) for basis in basis_functions])\n",
    "            a_p = self.get_policy_action(sp, w, basis_functions, env, method)\n",
    "            phi_p = np.array([basis(sp, a_p) for basis in basis_functions])\n",
    "            A += np.outer(phi, (phi - gamma*phi_p))\n",
    "            b = b + phi*r \n",
    "        w = np.dot(np.linalg.inv(A),b)\n",
    "        return w\n",
    "    \n",
    "    def get_policy_action(self, s, w, basis_functions, env):\n",
    "        a_max = None\n",
    "        max_score = float(\"-inf\")  \n",
    "        action_space = [0, 1]  \n",
    "        # gradient descent\n",
    "        for a in action_space:\n",
    "            score = np.dot(_compute_phi(s, a, basis_functions), w)\n",
    "            # update\n",
    "            if score > max_score:\n",
    "                max_score = score\n",
    "                a_max = a\n",
    "        return a_max    \n",
    "\n",
    "    def generate_samples(self, env, n_samples, n_steps=100):\n",
    "        samples = []\n",
    "        for i in range(n_samples):\n",
    "            env.reset()\n",
    "            for j in range(n_steps):\n",
    "                s= env.env.state\n",
    "                a = env.action_space.sample()     \n",
    "                sp,r, _,_ = env.step(a)       \n",
    "                sample = (s, a, r, sp)\n",
    "                samples.append(sample)\n",
    "        return np.array(samples)"
   ]
  }
 ],
 "metadata": {
  "kernelspec": {
   "display_name": "Python 3",
   "language": "python",
   "name": "python3"
  },
  "language_info": {
   "codemirror_mode": {
    "name": "ipython",
    "version": 3
   },
   "file_extension": ".py",
   "mimetype": "text/x-python",
   "name": "python",
   "nbconvert_exporter": "python",
   "pygments_lexer": "ipython3",
   "version": "3.7.9"
  }
 },
 "nbformat": 4,
 "nbformat_minor": 4
}
