{
 "cells": [
  {
   "cell_type": "markdown",
   "metadata": {},
   "source": [
    "# Stanford CME 241 (Winter 2021) - Assignment 6"
   ]
  },
  {
   "cell_type": "markdown",
   "metadata": {},
   "source": [
    "### Portfolio application of CRRA"
   ]
  },
  {
   "cell_type": "markdown",
   "metadata": {},
   "source": [
    "Assuming $x \\sim N(\\mu, \\sigma^2) $\n",
    "$$ U(W_t) = log W_t \\sim N(r + \\pi (\\mu - r) - \\frac{\\pi^2 \\sigma^2}{2}, \\pi^2 \\sigma^2)$$\n",
    "Therefore, $$ dW_t = (r + \\pi(\\mu - r) - \\frac{\\pi^2 \\sigma^2}{2}) W_t dt + \\pi \\sigma W_t dz $$\n",
    "To maximze $ E[U(x)]$, \n",
    "$$ x_{CE} = \\frac{\\mu - r}{\\gamma \\sigma^2 } $$"
   ]
  },
  {
   "cell_type": "markdown",
   "metadata": {},
   "source": [
    "### Kelly Criterion Problem"
   ]
  },
  {
   "cell_type": "markdown",
   "metadata": {},
   "source": [
    "Recall:\n",
    "$$ dX_t = \\frac{X_t \\alpha_t}{S_t} dS_t + \\frac{X_t(1-\\alpha_t)}{S_t^0} dS_t^0 $$\n",
    "where $\\alpha_t$ is the proportion of the investment in the risky asset $S_t$ while $S_t^0$ is the investment in risk-free asset. \n",
    "In order to maximize \n",
    "$$E[U(X_T)]$$ \n",
    "with the CRRA utility function \n",
    "$$ u(x) = \\frac{x^{1-\\gamma}}{1-\\gamma} $$\n",
    "where $\\gamma$ indicates risk aversion. Assuming Black-Scholes dynamics:\n",
    "$$ dS_t^0 = rS_t^0 dt $$\n",
    "$$ dS_t = \\mu S_t dt + \\sigma S_t d W_t $$\n",
    "The optimal proportion to invest in the risky asset is:\n",
    "$$ \\alpha_t = \\frac{\\mu - r}{\\gamma \\sigma^2} $$"
   ]
  }
 ],
 "metadata": {
  "kernelspec": {
   "display_name": "Python 3",
   "language": "python",
   "name": "python3"
  },
  "language_info": {
   "codemirror_mode": {
    "name": "ipython",
    "version": 3
   },
   "file_extension": ".py",
   "mimetype": "text/x-python",
   "name": "python",
   "nbconvert_exporter": "python",
   "pygments_lexer": "ipython3",
   "version": "3.7.9"
  }
 },
 "nbformat": 4,
 "nbformat_minor": 4
}
