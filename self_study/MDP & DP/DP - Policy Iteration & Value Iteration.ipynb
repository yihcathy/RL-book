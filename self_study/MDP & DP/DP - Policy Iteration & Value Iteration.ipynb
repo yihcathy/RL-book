{
 "cells": [
  {
   "cell_type": "code",
   "execution_count": 4,
   "metadata": {},
   "outputs": [],
   "source": [
    "from IPython.core.debugger import set_trace\n",
    "import matplotlib.pyplot as plt\n",
    "import pandas as pd\n",
    "import numpy as np\n",
    "import pprint\n",
    "from gridworld import GridworldEnv"
   ]
  },
  {
   "cell_type": "markdown",
   "metadata": {},
   "source": [
    "## Policy Evalution"
   ]
  },
  {
   "cell_type": "code",
   "execution_count": 5,
   "metadata": {},
   "outputs": [],
   "source": [
    "pp = pprint.PrettyPrinter(indent=2)\n",
    "env = GridworldEnv()"
   ]
  },
  {
   "cell_type": "code",
   "execution_count": 10,
   "metadata": {},
   "outputs": [],
   "source": [
    "def policy_eval(policy, env, discount_factor=1.0, theta=0.00001):\n",
    "    \"\"\"\n",
    "    policy: [S, A]\n",
    "    env.P[s][a]: (prob, next_state, reward, done)\n",
    "    env.nS: # of states\n",
    "    env.nA: # of actions\n",
    "    theta: threshold to stop policy evaluation\n",
    "    discount_factor: gamma in vf\n",
    "    \"\"\"\n",
    "    V = np.zeros(env.nS)\n",
    "    while True: # this is to make the code below iterable for 'env'\n",
    "        delta = 0\n",
    "        for s in range(env.nS):\n",
    "            v = 0\n",
    "            for a, action_prob in enumerate(policy[s]):\n",
    "                # for each action, look at the possible next states\n",
    "                for prob, next_state, reward, done in env.P[s][a]:\n",
    "                    v += action_prob * prob * (reward + discount_factor * V[next_state])\n",
    "            # the change of vf for each state\n",
    "            delta = max(delta, np.abs(v-V[s]))\n",
    "            V[s] = v\n",
    "        # stop evaluating once the change of vf is below a threshold\n",
    "        if delta < theta:\n",
    "            break\n",
    "    return np.array(V)             "
   ]
  },
  {
   "cell_type": "code",
   "execution_count": 11,
   "metadata": {},
   "outputs": [],
   "source": [
    "random_policy = np.ones([env.nS, env.nA]) / env.nA # this is a random initial test policy\n",
    "v = policy_eval(random_policy, env)"
   ]
  },
  {
   "cell_type": "code",
   "execution_count": 12,
   "metadata": {},
   "outputs": [
    {
     "name": "stdout",
     "output_type": "stream",
     "text": [
      "[  0.         -13.99993529 -19.99990698 -21.99989761 -13.99993529\n",
      " -17.9999206  -19.99991379 -19.99991477 -19.99990698 -19.99991379\n",
      " -17.99992725 -13.99994569 -21.99989761 -19.99991477 -13.99994569\n",
      "   0.        ]\n"
     ]
    }
   ],
   "source": [
    "print(v)"
   ]
  },
  {
   "cell_type": "code",
   "execution_count": 6,
   "metadata": {},
   "outputs": [],
   "source": [
    "def one_step_lookahead(state, V, discount_factor=1.0):\n",
    "    \"\"\"\n",
    "    This function calculates the expected values of all actions in a given state.\n",
    "    \"\"\"\n",
    "    A = np.zeros(env.nA)\n",
    "    \n",
    "    for a in range(env.nA):\n",
    "        for prob, next_state, reward, done in env.P[state][a]:\n",
    "            A[a] += prob * (reward + discount_factor * V[next_state])\n",
    "    \n",
    "    return A\n"
   ]
  },
  {
   "cell_type": "markdown",
   "metadata": {},
   "source": [
    "## Policy Iteration"
   ]
  },
  {
   "cell_type": "code",
   "execution_count": 13,
   "metadata": {},
   "outputs": [],
   "source": [
    "def policy_improvement(env, policy_eval_fn=policy_eval, discount_factor=1.0):\n",
    "    \"\"\"\n",
    "    by default we take in the `policy_eval()` function from above\n",
    "    \n",
    "    Two parts of policy iteration:\n",
    "    1. policy evaluation\n",
    "    2. policy improvement\n",
    "    \"\"\"\n",
    "    policy = np.ones([env.nS, env.nA]) / env.nA\n",
    "    while True: \n",
    "        V = policy_eval_fn(policy, env, discount_factor) # from above\n",
    "        policy_stable = True\n",
    "        for s in range(env.nS):\n",
    "            # for each state, return the index of action with highest prob (initial: 1/(env.nA))\n",
    "            chosen_a = np.argmax(policy[s]) \n",
    "            action_values = one_step_lookahead(s, V, discount_factor)\n",
    "            # return the index of the best one step lookahead action\n",
    "            best_a = np.argmax(action_values)\n",
    "\n",
    "            if chosen_a != best_a:\n",
    "                policy_stable = False\n",
    "\n",
    "            # make it '1' for the best action for this state; other actions '0'\n",
    "            policy[s] = np.eye(env.nA)[best_a] \n",
    "\n",
    "        if policy_stable:\n",
    "            return policy, V\n",
    "    "
   ]
  },
  {
   "cell_type": "code",
   "execution_count": 14,
   "metadata": {},
   "outputs": [
    {
     "name": "stdout",
     "output_type": "stream",
     "text": [
      "[[1. 0. 0. 0.]\n",
      " [0. 0. 0. 1.]\n",
      " [0. 0. 0. 1.]\n",
      " [0. 0. 1. 0.]\n",
      " [1. 0. 0. 0.]\n",
      " [1. 0. 0. 0.]\n",
      " [1. 0. 0. 0.]\n",
      " [0. 0. 1. 0.]\n",
      " [1. 0. 0. 0.]\n",
      " [1. 0. 0. 0.]\n",
      " [0. 1. 0. 0.]\n",
      " [0. 0. 1. 0.]\n",
      " [1. 0. 0. 0.]\n",
      " [0. 1. 0. 0.]\n",
      " [0. 1. 0. 0.]\n",
      " [1. 0. 0. 0.]]\n",
      "[[0 3 3 2]\n",
      " [0 0 0 2]\n",
      " [0 0 1 2]\n",
      " [0 1 1 0]]\n",
      "[ 0. -1. -2. -3. -1. -2. -3. -2. -2. -3. -2. -1. -3. -2. -1.  0.]\n"
     ]
    }
   ],
   "source": [
    "policy_pi, v_pi = policy_improvement(env)\n",
    "print(policy_pi)\n",
    "print(np.reshape(np.argmax(policy_pi, axis=1), env.shape))\n",
    "print(v_pi)"
   ]
  },
  {
   "cell_type": "markdown",
   "metadata": {},
   "source": [
    "## Value Iteration"
   ]
  },
  {
   "cell_type": "code",
   "execution_count": 7,
   "metadata": {},
   "outputs": [],
   "source": [
    "def value_iteration(env, theta=0.0001, discount_factor=1.0):\n",
    "    V = np.zeros(env.nS)\n",
    "    while True:\n",
    "        delta = 0\n",
    "        for s in range(env.nS):\n",
    "            A = one_step_lookahead(s, V, discount_factor)\n",
    "            best_action_value = np.max(A)\n",
    "            delta = max(delta, np.abs(best_action_value-V[s]))\n",
    "            V[s] = best_action_value\n",
    "        if delta < theta:\n",
    "            break\n",
    "            \n",
    "    policy = np.zeros([env.nS, env.nA])\n",
    "    for s in range(env.nS):\n",
    "        A = one_step_lookahead(s, V, discount_factor)\n",
    "        best_action = np.argmax(A)\n",
    "        policy[s, best_action] = 1.0\n",
    "    \n",
    "    return policy, V    \n",
    "   "
   ]
  },
  {
   "cell_type": "code",
   "execution_count": 8,
   "metadata": {},
   "outputs": [
    {
     "name": "stdout",
     "output_type": "stream",
     "text": [
      "[[1. 0. 0. 0.]\n",
      " [0. 0. 0. 1.]\n",
      " [0. 0. 0. 1.]\n",
      " [0. 0. 1. 0.]\n",
      " [1. 0. 0. 0.]\n",
      " [1. 0. 0. 0.]\n",
      " [1. 0. 0. 0.]\n",
      " [0. 0. 1. 0.]\n",
      " [1. 0. 0. 0.]\n",
      " [1. 0. 0. 0.]\n",
      " [0. 1. 0. 0.]\n",
      " [0. 0. 1. 0.]\n",
      " [1. 0. 0. 0.]\n",
      " [0. 1. 0. 0.]\n",
      " [0. 1. 0. 0.]\n",
      " [1. 0. 0. 0.]]\n",
      "[[0 3 3 2]\n",
      " [0 0 0 2]\n",
      " [0 0 1 2]\n",
      " [0 1 1 0]]\n",
      "[ 0. -1. -2. -3. -1. -2. -3. -2. -2. -3. -2. -1. -3. -2. -1.  0.]\n"
     ]
    }
   ],
   "source": [
    "policy_vi, v_vi = value_iteration(env)\n",
    "print(policy_vi)\n",
    "print(np.reshape(np.argmax(policy_vi, axis=1), env.shape))\n",
    "print(v_vi)"
   ]
  },
  {
   "cell_type": "code",
   "execution_count": 15,
   "metadata": {},
   "outputs": [],
   "source": [
    "np.testing.assert_array_almost_equal(v_pi, v_vi, decimal=2)"
   ]
  }
 ],
 "metadata": {
  "kernelspec": {
   "display_name": "Python 3",
   "language": "python",
   "name": "python3"
  },
  "language_info": {
   "codemirror_mode": {
    "name": "ipython",
    "version": 3
   },
   "file_extension": ".py",
   "mimetype": "text/x-python",
   "name": "python",
   "nbconvert_exporter": "python",
   "pygments_lexer": "ipython3",
   "version": "3.7.9"
  }
 },
 "nbformat": 4,
 "nbformat_minor": 4
}
