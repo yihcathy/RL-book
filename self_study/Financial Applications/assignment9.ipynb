{
 "cells": [
  {
   "cell_type": "markdown",
   "metadata": {},
   "source": [
    "# Stanford CME 241 (Winter 2021) - Assignment 9"
   ]
  },
  {
   "cell_type": "markdown",
   "metadata": {},
   "source": [
    "### Linear-Percentage Temporary (LPT) Price Impact Model"
   ]
  },
  {
   "cell_type": "markdown",
   "metadata": {},
   "source": [
    "#### Optimal Value Function"
   ]
  },
  {
   "cell_type": "markdown",
   "metadata": {},
   "source": [
    "The Bellman equation, which relates the optimal value of the objective function in period $t$ and its optimal value in period $t+1$:\n",
    "$$ V_t (P_{t-1}, W_t) = Min_{S_t} E_t [P_t S_t + V_{t+1} (P_t, W_{t+1})] $$\n",
    "The optimal value function $V_T (\\cdot)$ is a function of the two state variables $P_{T-1}$, $W_T$,\n",
    "$$ V_T (P_{T-1}, W_T) = Min_{S_T} E_T [P_T W_T] = (P_{T-1} + \\theta W_T) W_T $$\n",
    "$$ V_{T-1} (P_{T-2}, W_{T-1}) = Min_{S_{T-1}} E_{T-1} [P_{T-1} S_{T-1} + V_T (P_{T-1}, W_T)] $$\n",
    "$$ = Min_{S_{T-1}} E_{T-1} [(P_{T-2} + \\theta S_{T-1} + \\varepsilon_{T-1}) S_{T-1} + V_T (P_{T-2} + \\theta S_{T-1} + \\varepsilon_{T-1}, W_{T-1}-S_{T-1})]$$"
   ]
  },
  {
   "cell_type": "markdown",
   "metadata": {},
   "source": [
    "#### Optimal Policy"
   ]
  },
  {
   "cell_type": "markdown",
   "metadata": {},
   "source": [
    "The optimal trade size $S_1^*$ is an explicit function of $\\overline{S}$, and the expected best-execution cost V_1 is an explicit function of $\\overline{S}$, $P_0$, $\\theta$ (price-impact parameter).\n",
    "$$ S_1^* = \\frac{\\overline{S}}{T} $$ \n",
    "$$ V_1 (P_0, W_1) = E_1 [\\displaystyle\\sum_{t=1}^T P_t S_t^*] = P_0 \\overline{S} + \\frac{\\theta \\overline{S}^2}{2} (1+\\frac{1}{T}) $$\n",
    "Thus, the optimal policy for execution is $ S_1^* = S_2^* = S_3^* = \\ldots = S_T^* = \\frac{\\overline{S}}{T}$"
   ]
  },
  {
   "cell_type": "markdown",
   "metadata": {},
   "source": [
    "#### Linear price impact with information"
   ]
  },
  {
   "cell_type": "markdown",
   "metadata": {},
   "source": [
    "Let $X_t$ denote a serially-correlated state variable that affects the price $P_t$ linearly,\n",
    "$$ P_t = P_{t-1} + \\theta S_t + \\gamma X_t + \\varepsilon_t, \\theta > 0 $$\n",
    "$$ X_t = \\rho X_{t-1} + \\eta_t, \\rho \\in (-1,1)$$\n",
    "where $\\varepsilon_t$, $\\eta_t$ are independent white noises.\n",
    "The optimal policy and optimal value function can be obtained as:\n",
    "$$ S_{T-k}^* = \\delta_{w,k} W_{T-k} + \\delta_{x,k} X_{T-k} $$\n",
    "$$ V_{T-k} (P_{T-k-1}, X_{T-k}, W_{T-k}) = P_{T-k-1} W_{T-k} + a_k W_{T-k}^2 + b_k X_{T-k} W_{T-k} + c_k X_{T-k}^2 + d_k $$\n",
    "For $k=0,1,2,3, ..., T-1$,\n",
    "$$ \\delta_{w,k} = \\frac{1}{k+1}, delta_{x,k} = \\frac{\\rho b_{k-1}}{2a_{k-1}} $$\n",
    "where $a_k = \\frac{\\theta}{2} (1+\\frac{1}{k+1}), a_0 = \\theta$, $b_k = \\gamma + \\frac{\\theta \\rho b_{k-1}}{2a_{k-1}}, b_0 = \\gamma$, $c_k = \\rho^2 c_{k-1} - \\frac{\\rho^2 b_{k-1}^2}{4a_{k-1}}, c_0 = 0$, $d_k = d_{k-1} + c_{k-1} \\sigma_{\\eta}^2, d_0 = 0$"
   ]
  },
  {
   "cell_type": "markdown",
   "metadata": {},
   "source": [
    "##### Reference: Optimal control of execution costs (Dimitris Bertsimas, Andrew W. Lo)"
   ]
  }
 ],
 "metadata": {
  "kernelspec": {
   "display_name": "Python 3",
   "language": "python",
   "name": "python3"
  },
  "language_info": {
   "codemirror_mode": {
    "name": "ipython",
    "version": 3
   },
   "file_extension": ".py",
   "mimetype": "text/x-python",
   "name": "python",
   "nbconvert_exporter": "python",
   "pygments_lexer": "ipython3",
   "version": "3.7.9"
  }
 },
 "nbformat": 4,
 "nbformat_minor": 4
}
